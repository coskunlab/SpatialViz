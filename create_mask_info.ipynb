{
 "cells": [
  {
   "cell_type": "code",
   "execution_count": 24,
   "metadata": {},
   "outputs": [],
   "source": [
    "import numpy as np \n",
    "import pandas as pd \n",
    "import os\n",
    "\n",
    "mask_folder = 'Y:\\coskun-lab\\Thomas\\Mayar-Data\\Mask'\n",
    "\n",
    "set_id = 1"
   ]
  },
  {
   "cell_type": "code",
   "execution_count": 25,
   "metadata": {},
   "outputs": [],
   "source": [
    "row_lists = []\n",
    "\n",
    "for (dirpath, dirnames, filenames) in os.walk(mask_folder):\n",
    "    for name in filenames:\n",
    "        if 'tiff' in name:\n",
    "            info = {'set ID':set_id,'condition':dirpath.split('\\Mask\\\\')[1],'set location':dirpath,'tag':'','note':name}\n",
    "            set_id += 1\n",
    "            row_lists.append(info)"
   ]
  },
  {
   "cell_type": "code",
   "execution_count": 26,
   "metadata": {},
   "outputs": [],
   "source": [
    "df = pd.DataFrame(row_lists)"
   ]
  },
  {
   "cell_type": "code",
   "execution_count": 29,
   "metadata": {},
   "outputs": [],
   "source": [
    "df.to_csv('mask_info.csv', index=False)"
   ]
  }
 ],
 "metadata": {
  "kernelspec": {
   "display_name": "Python 3",
   "language": "python",
   "name": "python3"
  },
  "language_info": {
   "codemirror_mode": {
    "name": "ipython",
    "version": 3
   },
   "file_extension": ".py",
   "mimetype": "text/x-python",
   "name": "python",
   "nbconvert_exporter": "python",
   "pygments_lexer": "ipython3",
   "version": "3.6.10"
  }
 },
 "nbformat": 4,
 "nbformat_minor": 4
}
