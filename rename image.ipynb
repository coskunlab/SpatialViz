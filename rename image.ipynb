{
 "cells": [
  {
   "cell_type": "code",
   "execution_count": 15,
   "metadata": {},
   "outputs": [],
   "source": [
    "import numpy as np \n",
    "import pandas as pd \n",
    "import os\n",
    "import cv2\n",
    "import matplotlib.pyplot as plt\n",
    "\n",
    "Image_folder = 'Y:\\coskun-lab\\Thomas\\Mayar-Data\\Image'"
   ]
  },
  {
   "cell_type": "code",
   "execution_count": 16,
   "metadata": {},
   "outputs": [
    {
     "name": "stdout",
     "output_type": "stream",
     "text": [
      "CD20.tiff\n",
      "CD3.tiff\n",
      "CD4.tiff\n",
      "CD44.tiff\n",
      "CD45RO.tiff\n",
      "CD68.tiff\n",
      "CD8a.tiff\n",
      "Col1.tiff\n",
      "ECadherin.tiff\n",
      "FoxP3.tiff\n",
      "GranzymeB.tiff\n",
      "H3K4me3.tiff\n",
      "Histone3.tiff\n",
      "Ki67.tiff\n",
      "Mask.tiff\n",
      "MHCII.tiff\n",
      "PanKeratin.tiff\n",
      "PD1.tiff\n",
      "PDL1.tiff\n",
      "SMA.tiff\n",
      "Vimentin.tiff\n",
      "White190BCKG.tiff\n",
      "White191Ir.tiff\n",
      "White193Ir.tiff\n"
     ]
    }
   ],
   "source": [
    "experiment = 'Normal Tonsil 2_2\\ROI003'\n",
    "new_name = 'NT2 ROI003'\n",
    "\n",
    "for (dirpath, dirnames, filenames) in os.walk(os.path.join(Image_folder,experiment)):\n",
    "    for name in filenames:\n",
    "        if 'tiff' in name:\n",
    "            os.rename(os.path.join(Image_folder,experiment,name),os.path.join(Image_folder,experiment,new_name + '_' + name.split('_')[-1]))\n",
    "            print(name.split('_')[-1])"
   ]
  },
  {
   "cell_type": "code",
   "execution_count": null,
   "metadata": {},
   "outputs": [],
   "source": []
  }
 ],
 "metadata": {
  "kernelspec": {
   "display_name": "Python 3",
   "language": "python",
   "name": "python3"
  },
  "language_info": {
   "codemirror_mode": {
    "name": "ipython",
    "version": 3
   },
   "file_extension": ".py",
   "mimetype": "text/x-python",
   "name": "python",
   "nbconvert_exporter": "python",
   "pygments_lexer": "ipython3",
   "version": "3.6.10"
  }
 },
 "nbformat": 4,
 "nbformat_minor": 4
}
