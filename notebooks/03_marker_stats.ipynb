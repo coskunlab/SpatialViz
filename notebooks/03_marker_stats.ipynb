{
 "cells": [
  {
   "cell_type": "code",
   "execution_count": 29,
   "metadata": {
    "ExecuteTime": {
     "end_time": "2021-04-05T14:40:55.526061Z",
     "start_time": "2021-04-05T14:40:55.327003Z"
    }
   },
   "outputs": [],
   "source": [
    "import os\n",
    "import sys\n",
    "from pathlib import Path\n",
    "\n",
    "import cv2\n",
    "import matplotlib.font_manager as fm\n",
    "import matplotlib.pyplot as plt\n",
    "import numpy as np\n",
    "import pandas as pd\n",
    "import seaborn as sns\n",
    "from PIL import Image\n",
    "from skimage import measure\n",
    "\n",
    "fontprops = fm.FontProperties(size=34)"
   ]
  },
  {
   "cell_type": "code",
   "execution_count": 30,
   "metadata": {
    "ExecuteTime": {
     "end_time": "2021-04-05T14:40:55.710007Z",
     "start_time": "2021-04-05T14:40:55.530010Z"
    }
   },
   "outputs": [
    {
     "name": "stdout",
     "output_type": "stream",
     "text": [
      "The autoreload extension is already loaded. To reload it, use:\n",
      "  %reload_ext autoreload\n"
     ]
    }
   ],
   "source": [
    "%load_ext autoreload\n",
    "%autoreload 2"
   ]
  },
  {
   "cell_type": "code",
   "execution_count": 31,
   "metadata": {
    "ExecuteTime": {
     "end_time": "2021-04-05T14:40:55.891003Z",
     "start_time": "2021-04-05T14:40:55.714008Z"
    }
   },
   "outputs": [],
   "source": [
    "# Import path\n",
    "module_path = str(Path.cwd().parents[0])\n",
    "if module_path not in sys.path:\n",
    "    sys.path.append(module_path)\n",
    "\n",
    "module_path = str(Path.cwd().parents[0] / \"src\")\n",
    "if module_path not in sys.path:\n",
    "    sys.path.append(module_path)"
   ]
  },
  {
   "cell_type": "code",
   "execution_count": 32,
   "metadata": {
    "ExecuteTime": {
     "end_time": "2021-04-05T14:40:56.063012Z",
     "start_time": "2021-04-05T14:40:55.895003Z"
    }
   },
   "outputs": [],
   "source": [
    "import my_io as io\n",
    "from config import *"
   ]
  },
  {
   "cell_type": "code",
   "execution_count": 33,
   "metadata": {
    "ExecuteTime": {
     "end_time": "2021-04-05T14:40:56.312010Z",
     "start_time": "2021-04-05T14:40:56.066011Z"
    }
   },
   "outputs": [
    {
     "name": "stdout",
     "output_type": "stream",
     "text": [
      "['DT1', 'DT2', 'DT3', 'DT4', 'DT5', 'DT6', 'NT1', 'NT2', 'NT3', 'NT4', 'NT5', 'NT6']\n"
     ]
    }
   ],
   "source": [
    "datasets = sorted([str(f) for f in data_raw.iterdir() if f.is_dir()])\n",
    "datasets = [name.split(\"\\\\\")[-1] for name in datasets]\n",
    "print(datasets)"
   ]
  },
  {
   "cell_type": "code",
   "execution_count": 34,
   "metadata": {
    "ExecuteTime": {
     "end_time": "2021-04-05T14:40:56.484011Z",
     "start_time": "2021-04-05T14:40:56.317012Z"
    }
   },
   "outputs": [],
   "source": [
    "dataset = datasets[0]"
   ]
  },
  {
   "cell_type": "code",
   "execution_count": 35,
   "metadata": {
    "ExecuteTime": {
     "end_time": "2021-04-05T14:40:56.665014Z",
     "start_time": "2021-04-05T14:40:56.487014Z"
    }
   },
   "outputs": [
    {
     "name": "stdout",
     "output_type": "stream",
     "text": [
      "Folder is already there\n"
     ]
    },
    {
     "data": {
      "text/plain": [
       "WindowsPath('Y:/coskun-lab/Thomas/SpatialViz/figures/stats')"
      ]
     },
     "execution_count": 35,
     "metadata": {},
     "output_type": "execute_result"
    }
   ],
   "source": [
    "io.create_folder(\"stats\", data_figure)"
   ]
  },
  {
   "cell_type": "markdown",
   "metadata": {},
   "source": [
    "# Cell area"
   ]
  },
  {
   "cell_type": "code",
   "execution_count": 36,
   "metadata": {
    "ExecuteTime": {
     "end_time": "2021-04-05T14:40:56.885012Z",
     "start_time": "2021-04-05T14:40:56.670015Z"
    }
   },
   "outputs": [],
   "source": [
    "experiments = [\"NT1\", \"NT2\", \"DT2\", \"DT3\"]\n",
    "conditions = [\"Healthy\", \"Healthy\", \"Diseased\", \"Diseased\"]"
   ]
  },
  {
   "cell_type": "code",
   "execution_count": 37,
   "metadata": {
    "ExecuteTime": {
     "end_time": "2021-04-05T14:41:34.650462Z",
     "start_time": "2021-04-05T14:40:56.894009Z"
    },
    "scrolled": false
   },
   "outputs": [
    {
     "data": {
      "text/html": [
       "<div>\n",
       "<style scoped>\n",
       "    .dataframe tbody tr th:only-of-type {\n",
       "        vertical-align: middle;\n",
       "    }\n",
       "\n",
       "    .dataframe tbody tr th {\n",
       "        vertical-align: top;\n",
       "    }\n",
       "\n",
       "    .dataframe thead th {\n",
       "        text-align: right;\n",
       "    }\n",
       "</style>\n",
       "<table border=\"1\" class=\"dataframe\">\n",
       "  <thead>\n",
       "    <tr style=\"text-align: right;\">\n",
       "      <th></th>\n",
       "      <th>CD20</th>\n",
       "      <th>CD3</th>\n",
       "      <th>CD4</th>\n",
       "      <th>CD45RO</th>\n",
       "      <th>CD68</th>\n",
       "      <th>CD8a</th>\n",
       "      <th>Col1</th>\n",
       "      <th>DNA1</th>\n",
       "      <th>DNA2</th>\n",
       "      <th>Ecadherin</th>\n",
       "      <th>FoxP3</th>\n",
       "      <th>GranzymeB</th>\n",
       "      <th>Histone3</th>\n",
       "      <th>Ki67</th>\n",
       "      <th>PD1</th>\n",
       "      <th>PDL1</th>\n",
       "      <th>Pankeratin</th>\n",
       "      <th>SMA</th>\n",
       "      <th>Vimentin</th>\n",
       "      <th>condition</th>\n",
       "    </tr>\n",
       "  </thead>\n",
       "  <tbody>\n",
       "    <tr>\n",
       "      <th>0</th>\n",
       "      <td>0.533458</td>\n",
       "      <td>0.545102</td>\n",
       "      <td>0.467621</td>\n",
       "      <td>0.928809</td>\n",
       "      <td>0.212910</td>\n",
       "      <td>0.487671</td>\n",
       "      <td>0.019863</td>\n",
       "      <td>0.996617</td>\n",
       "      <td>0.998298</td>\n",
       "      <td>0.737464</td>\n",
       "      <td>0.163699</td>\n",
       "      <td>0.048007</td>\n",
       "      <td>0.784330</td>\n",
       "      <td>0.219137</td>\n",
       "      <td>0.056746</td>\n",
       "      <td>0.022769</td>\n",
       "      <td>0.061706</td>\n",
       "      <td>0.070942</td>\n",
       "      <td>0.553155</td>\n",
       "      <td>Healthy</td>\n",
       "    </tr>\n",
       "    <tr>\n",
       "      <th>1</th>\n",
       "      <td>0.370101</td>\n",
       "      <td>0.471297</td>\n",
       "      <td>0.428660</td>\n",
       "      <td>0.603717</td>\n",
       "      <td>0.147490</td>\n",
       "      <td>0.455268</td>\n",
       "      <td>0.021390</td>\n",
       "      <td>0.998970</td>\n",
       "      <td>0.999361</td>\n",
       "      <td>0.188104</td>\n",
       "      <td>0.053518</td>\n",
       "      <td>0.020608</td>\n",
       "      <td>0.991107</td>\n",
       "      <td>0.173140</td>\n",
       "      <td>0.126367</td>\n",
       "      <td>0.058630</td>\n",
       "      <td>0.073275</td>\n",
       "      <td>0.047518</td>\n",
       "      <td>0.169962</td>\n",
       "      <td>Healthy</td>\n",
       "    </tr>\n",
       "    <tr>\n",
       "      <th>2</th>\n",
       "      <td>0.447063</td>\n",
       "      <td>0.357655</td>\n",
       "      <td>0.411101</td>\n",
       "      <td>0.912694</td>\n",
       "      <td>0.653410</td>\n",
       "      <td>0.300248</td>\n",
       "      <td>0.140375</td>\n",
       "      <td>0.968574</td>\n",
       "      <td>0.971982</td>\n",
       "      <td>0.126765</td>\n",
       "      <td>0.022861</td>\n",
       "      <td>0.277586</td>\n",
       "      <td>0.895233</td>\n",
       "      <td>0.139556</td>\n",
       "      <td>0.811889</td>\n",
       "      <td>0.143606</td>\n",
       "      <td>0.105475</td>\n",
       "      <td>0.091090</td>\n",
       "      <td>0.739078</td>\n",
       "      <td>Diseased</td>\n",
       "    </tr>\n",
       "    <tr>\n",
       "      <th>3</th>\n",
       "      <td>0.286203</td>\n",
       "      <td>0.240380</td>\n",
       "      <td>0.301941</td>\n",
       "      <td>0.800970</td>\n",
       "      <td>0.451031</td>\n",
       "      <td>0.123835</td>\n",
       "      <td>0.154241</td>\n",
       "      <td>0.998485</td>\n",
       "      <td>0.999198</td>\n",
       "      <td>0.227690</td>\n",
       "      <td>0.078725</td>\n",
       "      <td>0.163687</td>\n",
       "      <td>0.680985</td>\n",
       "      <td>0.059743</td>\n",
       "      <td>0.001836</td>\n",
       "      <td>0.000428</td>\n",
       "      <td>0.166200</td>\n",
       "      <td>0.025933</td>\n",
       "      <td>0.523464</td>\n",
       "      <td>Diseased</td>\n",
       "    </tr>\n",
       "  </tbody>\n",
       "</table>\n",
       "</div>"
      ],
      "text/plain": [
       "       CD20       CD3       CD4    CD45RO      CD68      CD8a      Col1  \\\n",
       "0  0.533458  0.545102  0.467621  0.928809  0.212910  0.487671  0.019863   \n",
       "1  0.370101  0.471297  0.428660  0.603717  0.147490  0.455268  0.021390   \n",
       "2  0.447063  0.357655  0.411101  0.912694  0.653410  0.300248  0.140375   \n",
       "3  0.286203  0.240380  0.301941  0.800970  0.451031  0.123835  0.154241   \n",
       "\n",
       "       DNA1      DNA2  Ecadherin     FoxP3  GranzymeB  Histone3      Ki67  \\\n",
       "0  0.996617  0.998298   0.737464  0.163699   0.048007  0.784330  0.219137   \n",
       "1  0.998970  0.999361   0.188104  0.053518   0.020608  0.991107  0.173140   \n",
       "2  0.968574  0.971982   0.126765  0.022861   0.277586  0.895233  0.139556   \n",
       "3  0.998485  0.999198   0.227690  0.078725   0.163687  0.680985  0.059743   \n",
       "\n",
       "        PD1      PDL1  Pankeratin       SMA  Vimentin condition  \n",
       "0  0.056746  0.022769    0.061706  0.070942  0.553155   Healthy  \n",
       "1  0.126367  0.058630    0.073275  0.047518  0.169962   Healthy  \n",
       "2  0.811889  0.143606    0.105475  0.091090  0.739078  Diseased  \n",
       "3  0.001836  0.000428    0.166200  0.025933  0.523464  Diseased  "
      ]
     },
     "execution_count": 37,
     "metadata": {},
     "output_type": "execute_result"
    }
   ],
   "source": [
    "df = pd.DataFrame()\n",
    "for n in range(len(experiments)):\n",
    "    experiment = experiments[n]\n",
    "\n",
    "    markers = []\n",
    "    imgs = []\n",
    "    masks = []\n",
    "\n",
    "    for (dirpath, dirnames, filenames) in os.walk(data_raw / experiment):\n",
    "        for name in sorted(filenames):\n",
    "            if \"tiff\" in name and experiment in name:\n",
    "                img = cv2.imread(\n",
    "                    os.path.join(dirpath, name),\n",
    "                    flags=(cv2.IMREAD_GRAYSCALE | cv2.IMREAD_ANYDEPTH),\n",
    "                )\n",
    "                imgs.append(img)\n",
    "                markers.append(name.split(\"_\")[1].split(\".\")[0])\n",
    "\n",
    "    for (dirpath, dirnames, filenames) in os.walk(data_mask / experiment):\n",
    "        for name in sorted(filenames):\n",
    "            if \"tiff\" in name and experiment in name:\n",
    "                img = cv2.imread(os.path.join(dirpath, name), 0)\n",
    "                masks.append(img)\n",
    "\n",
    "    # Read cell mask image\n",
    "    for (dirpath, dirnames, filenames) in os.walk(data_cell_mask):\n",
    "        for name in sorted(filenames):\n",
    "            if \"tiff\" in name and experiment in name:\n",
    "                cell_mask = np.array(Image.open(os.path.join(dirpath, name)))\n",
    "\n",
    "    max_cell = len(np.unique(cell_mask))\n",
    "\n",
    "    # Read mean intensity of marker in cell\n",
    "    marker_area = {}\n",
    "    for idx, marker in enumerate(markers):\n",
    "        marker_area[marker] = [\n",
    "            len(np.unique(cv2.bitwise_and(cell_mask, cell_mask, mask=masks[idx])))\n",
    "            / max_cell\n",
    "        ]\n",
    "\n",
    "    df_temp = pd.DataFrame.from_dict(marker_area)\n",
    "    df_temp[\"condition\"] = conditions[n]\n",
    "    df = df.append(df_temp, ignore_index=True)\n",
    "\n",
    "df = df.drop(columns=[\"CD44\", \"H3K9me3\", \"MHCII\"])\n",
    "df"
   ]
  },
  {
   "cell_type": "code",
   "execution_count": 38,
   "metadata": {
    "ExecuteTime": {
     "end_time": "2021-04-05T14:41:34.833469Z",
     "start_time": "2021-04-05T14:41:34.654463Z"
    }
   },
   "outputs": [],
   "source": [
    "# Group markers by cell type\n",
    "Tcell_markers = [\"CD3\", \"CD4\", \"CD8a\", \"CD45RO\", \"FoxP3\"]\n",
    "Icell_markers = [\"CD20\", \"CD68\", \"GranzymeB\"]\n",
    "Ecell_markers = [\"Ki67\", \"Pankeratin\", \"SMA\", \"Vimentin\", \"Ecadherin\", \"Col1\"]\n",
    "all_markers = list(df.columns)[:-1]"
   ]
  },
  {
   "cell_type": "code",
   "execution_count": 39,
   "metadata": {
    "ExecuteTime": {
     "end_time": "2021-04-05T14:41:35.050469Z",
     "start_time": "2021-04-05T14:41:34.836468Z"
    }
   },
   "outputs": [],
   "source": [
    "def get_df(markers):\n",
    "    cols = [\"Count\", \"Marker\", \"Condition\"]\n",
    "    df_temp = pd.DataFrame(columns=cols)\n",
    "    for ele in all_markers:\n",
    "        temp = pd.DataFrame(df[[ele]].values, columns=[\"Count\"])\n",
    "        temp[\"Marker\"] = ele\n",
    "        temp[\"Condition\"] = df.condition\n",
    "        df_temp = df_temp.append(temp, ignore_index=True)\n",
    "\n",
    "    return df_temp\n",
    "\n",
    "\n",
    "df = get_df(all_markers)"
   ]
  },
  {
   "cell_type": "code",
   "execution_count": 40,
   "metadata": {
    "ExecuteTime": {
     "end_time": "2021-04-05T14:41:35.218526Z",
     "start_time": "2021-04-05T14:41:35.053471Z"
    }
   },
   "outputs": [],
   "source": [
    "blue_red = [\"#3498db\", \"#e74c3c\"]\n",
    "my_pal = sns.color_palette(blue_red)"
   ]
  },
  {
   "cell_type": "code",
   "execution_count": 41,
   "metadata": {
    "ExecuteTime": {
     "end_time": "2021-04-05T14:41:35.385529Z",
     "start_time": "2021-04-05T14:41:35.224481Z"
    }
   },
   "outputs": [],
   "source": [
    "df[\"Percentage Count\"] = df[\"Count\"] * 100"
   ]
  },
  {
   "cell_type": "code",
   "execution_count": 42,
   "metadata": {
    "ExecuteTime": {
     "end_time": "2021-04-05T14:41:36.132535Z",
     "start_time": "2021-04-05T14:41:35.389472Z"
    }
   },
   "outputs": [
    {
     "name": "stderr",
     "output_type": "stream",
     "text": [
      "<ipython-input-42-e18a6bcc0bc5>:2: SettingWithCopyWarning: \n",
      "A value is trying to be set on a copy of a slice from a DataFrame.\n",
      "Try using .loc[row_indexer,col_indexer] = value instead\n",
      "\n",
      "See the caveats in the documentation: https://pandas.pydata.org/pandas-docs/stable/user_guide/indexing.html#returning-a-view-versus-a-copy\n",
      "  df_TCell[\"Percentage Count\"] = df_TCell[\"Percentage Count\"].astype(\"int\")\n"
     ]
    },
    {
     "data": {
      "image/png": "[encoded data removed]",
      "text/plain": [
       "<Figure size 720x720 with 1 Axes>"
      ]
     },
     "metadata": {},
     "output_type": "display_data"
    }
   ],
   "source": [
    "df_TCell = df[df.Marker.isin(Tcell_markers)]\n",
    "df_TCell[\"Percentage Count\"] = df_TCell[\"Percentage Count\"].astype(\"int\")\n",
    "\n",
    "sns.set_style(\"white\")\n",
    "sns.set(font_scale=1.5)\n",
    "\n",
    "with sns.axes_style(\"white\"):\n",
    "    fig, ax = plt.subplots(figsize=(10, 10))\n",
    "    ax = sns.boxplot(\n",
    "        x=\"Marker\", y=\"Percentage Count\", hue=\"Condition\", data=df_TCell, palette=my_pal\n",
    "    )\n",
    "    ax.legend(\n",
    "        loc=\"center right\",\n",
    "        bbox_to_anchor=(1.25, 0.5),\n",
    "        ncol=1,\n",
    "        fancybox=True,\n",
    "        framealpha=1,\n",
    "        shadow=True,\n",
    "        borderpad=1,\n",
    "    )\n",
    "    sns.despine(offset=10, trim=True, bottom=False)\n",
    "    fig.savefig(data_figure / \"stats\" / \"count_Tcell.png\", bbox_inches=\"tight\")"
   ]
  },
  {
   "cell_type": "code",
   "execution_count": 43,
   "metadata": {
    "ExecuteTime": {
     "end_time": "2021-04-05T14:41:36.928478Z",
     "start_time": "2021-04-05T14:41:36.136481Z"
    }
   },
   "outputs": [
    {
     "name": "stderr",
     "output_type": "stream",
     "text": [
      "<ipython-input-43-af81dd7beb27>:2: SettingWithCopyWarning: \n",
      "A value is trying to be set on a copy of a slice from a DataFrame.\n",
      "Try using .loc[row_indexer,col_indexer] = value instead\n",
      "\n",
      "See the caveats in the documentation: https://pandas.pydata.org/pandas-docs/stable/user_guide/indexing.html#returning-a-view-versus-a-copy\n",
      "  df_ICell[\"Percentage Count\"] = df_ICell[\"Percentage Count\"].astype(\"int\")\n"
     ]
    },
    {
     "data": {
      "image/png": "[encoded data removed]",
      "text/plain": [
       "<Figure size 720x720 with 1 Axes>"
      ]
     },
     "metadata": {},
     "output_type": "display_data"
    }
   ],
   "source": [
    "df_ICell = df[df.Marker.isin(Icell_markers)]\n",
    "df_ICell[\"Percentage Count\"] = df_ICell[\"Percentage Count\"].astype(\"int\")\n",
    "\n",
    "\n",
    "with sns.axes_style(\"white\"):\n",
    "    fig, ax = plt.subplots(figsize=(10, 10))\n",
    "    ax = sns.boxplot(\n",
    "        x=\"Marker\", y=\"Percentage Count\", hue=\"Condition\", data=df_ICell, palette=my_pal\n",
    "    )\n",
    "    ax.legend(\n",
    "        loc=\"center right\",\n",
    "        bbox_to_anchor=(1.25, 0.5),\n",
    "        ncol=1,\n",
    "        fancybox=True,\n",
    "        framealpha=1,\n",
    "        shadow=True,\n",
    "        borderpad=1,\n",
    "    )\n",
    "    sns.despine(offset=10, trim=True, bottom=False)\n",
    "    fig.savefig(data_figure / \"stats\" / \"count_Icell.png\", bbox_inches=\"tight\")"
   ]
  },
  {
   "cell_type": "code",
   "execution_count": 44,
   "metadata": {
    "ExecuteTime": {
     "end_time": "2021-04-05T14:41:37.932492Z",
     "start_time": "2021-04-05T14:41:36.933480Z"
    }
   },
   "outputs": [
    {
     "name": "stderr",
     "output_type": "stream",
     "text": [
      "<ipython-input-44-42a8181d993e>:2: SettingWithCopyWarning: \n",
      "A value is trying to be set on a copy of a slice from a DataFrame.\n",
      "Try using .loc[row_indexer,col_indexer] = value instead\n",
      "\n",
      "See the caveats in the documentation: https://pandas.pydata.org/pandas-docs/stable/user_guide/indexing.html#returning-a-view-versus-a-copy\n",
      "  df_ECell[\"Percentage Count\"] = df_ECell[\"Percentage Count\"].astype(\"int\")\n"
     ]
    },
    {
     "data": {
      "image/png": "[encoded data removed]",
      "text/plain": [
       "<Figure size 720x720 with 1 Axes>"
      ]
     },
     "metadata": {},
     "output_type": "display_data"
    }
   ],
   "source": [
    "df_ECell = df[df.Marker.isin(Ecell_markers)]\n",
    "df_ECell[\"Percentage Count\"] = df_ECell[\"Percentage Count\"].astype(\"int\")\n",
    "\n",
    "\n",
    "with sns.axes_style(\"white\"):\n",
    "    fig, ax = plt.subplots(figsize=(10, 10))\n",
    "    ax = sns.boxplot(\n",
    "        x=\"Marker\", y=\"Percentage Count\", hue=\"Condition\", data=df_ECell, palette=my_pal\n",
    "    )\n",
    "    ax.legend(\n",
    "        loc=\"center right\",\n",
    "        bbox_to_anchor=(1.25, 0.5),\n",
    "        ncol=1,\n",
    "        fancybox=True,\n",
    "        framealpha=1,\n",
    "        shadow=True,\n",
    "        borderpad=1,\n",
    "    )\n",
    "    sns.despine(offset=10, trim=True, bottom=False)\n",
    "    fig.savefig(data_figure / \"stats\" / \"count_ECell.png\", bbox_inches=\"tight\")"
   ]
  },
  {
   "cell_type": "markdown",
   "metadata": {},
   "source": [
    "# Marker intensity"
   ]
  },
  {
   "cell_type": "code",
   "execution_count": 45,
   "metadata": {
    "ExecuteTime": {
     "end_time": "2021-04-05T14:41:38.163492Z",
     "start_time": "2021-04-05T14:41:37.937487Z"
    }
   },
   "outputs": [],
   "source": [
    "experiments = [\"NT4\", \"NT1\", \"NT5\", \"NT3\", \"DT2\", \"DT5\", \"DT3\", \"DT6\"]\n",
    "conditions = [\n",
    "    \"Healthy\",\n",
    "    \"Healthy\",\n",
    "    \"Healthy\",\n",
    "    \"Healthy\",\n",
    "    \"Diseased\",\n",
    "    \"Diseased\",\n",
    "    \"Diseased\",\n",
    "    \"Diseased\",\n",
    "]"
   ]
  },
  {
   "cell_type": "code",
   "execution_count": 51,
   "metadata": {
    "ExecuteTime": {
     "end_time": "2021-04-05T14:55:40.758711Z",
     "start_time": "2021-04-05T14:49:12.331669Z"
    }
   },
   "outputs": [
    {
     "data": {
      "text/html": [
       "<div>\n",
       "<style scoped>\n",
       "    .dataframe tbody tr th:only-of-type {\n",
       "        vertical-align: middle;\n",
       "    }\n",
       "\n",
       "    .dataframe tbody tr th {\n",
       "        vertical-align: top;\n",
       "    }\n",
       "\n",
       "    .dataframe thead th {\n",
       "        text-align: right;\n",
       "    }\n",
       "</style>\n",
       "<table border=\"1\" class=\"dataframe\">\n",
       "  <thead>\n",
       "    <tr style=\"text-align: right;\">\n",
       "      <th></th>\n",
       "      <th>CD20</th>\n",
       "      <th>CD3</th>\n",
       "      <th>CD4</th>\n",
       "      <th>CD45RO</th>\n",
       "      <th>CD68</th>\n",
       "      <th>CD8a</th>\n",
       "      <th>Col1</th>\n",
       "      <th>DNA1</th>\n",
       "      <th>DNA2</th>\n",
       "      <th>Ecadherin</th>\n",
       "      <th>FoxP3</th>\n",
       "      <th>GranzymeB</th>\n",
       "      <th>Histone3</th>\n",
       "      <th>Ki67</th>\n",
       "      <th>PD1</th>\n",
       "      <th>PDL1</th>\n",
       "      <th>Pankeratin</th>\n",
       "      <th>SMA</th>\n",
       "      <th>Vimentin</th>\n",
       "      <th>condition</th>\n",
       "    </tr>\n",
       "  </thead>\n",
       "  <tbody>\n",
       "    <tr>\n",
       "      <th>0</th>\n",
       "      <td>15.062500</td>\n",
       "      <td>158.187500</td>\n",
       "      <td>120.312500</td>\n",
       "      <td>199.812500</td>\n",
       "      <td>0.000000</td>\n",
       "      <td>77.843750</td>\n",
       "      <td>0.0</td>\n",
       "      <td>151.281250</td>\n",
       "      <td>155.875000</td>\n",
       "      <td>63.562500</td>\n",
       "      <td>56.250000</td>\n",
       "      <td>0.000000</td>\n",
       "      <td>141.406250</td>\n",
       "      <td>3.125000</td>\n",
       "      <td>0.0</td>\n",
       "      <td>47.937500</td>\n",
       "      <td>0.000000</td>\n",
       "      <td>0.0</td>\n",
       "      <td>197.750000</td>\n",
       "      <td>Healthy</td>\n",
       "    </tr>\n",
       "    <tr>\n",
       "      <th>1</th>\n",
       "      <td>52.100000</td>\n",
       "      <td>177.800000</td>\n",
       "      <td>182.266667</td>\n",
       "      <td>177.500000</td>\n",
       "      <td>0.000000</td>\n",
       "      <td>164.100000</td>\n",
       "      <td>0.0</td>\n",
       "      <td>170.600000</td>\n",
       "      <td>180.600000</td>\n",
       "      <td>0.000000</td>\n",
       "      <td>59.500000</td>\n",
       "      <td>0.000000</td>\n",
       "      <td>187.366667</td>\n",
       "      <td>0.000000</td>\n",
       "      <td>0.0</td>\n",
       "      <td>82.766667</td>\n",
       "      <td>0.000000</td>\n",
       "      <td>0.0</td>\n",
       "      <td>201.766667</td>\n",
       "      <td>Healthy</td>\n",
       "    </tr>\n",
       "    <tr>\n",
       "      <th>2</th>\n",
       "      <td>0.000000</td>\n",
       "      <td>94.631068</td>\n",
       "      <td>84.990291</td>\n",
       "      <td>129.475728</td>\n",
       "      <td>1.864078</td>\n",
       "      <td>121.242718</td>\n",
       "      <td>0.0</td>\n",
       "      <td>144.504854</td>\n",
       "      <td>155.825243</td>\n",
       "      <td>0.000000</td>\n",
       "      <td>0.000000</td>\n",
       "      <td>0.000000</td>\n",
       "      <td>127.067961</td>\n",
       "      <td>0.000000</td>\n",
       "      <td>0.0</td>\n",
       "      <td>56.233010</td>\n",
       "      <td>0.000000</td>\n",
       "      <td>0.0</td>\n",
       "      <td>169.378641</td>\n",
       "      <td>Healthy</td>\n",
       "    </tr>\n",
       "    <tr>\n",
       "      <th>3</th>\n",
       "      <td>19.760563</td>\n",
       "      <td>97.788732</td>\n",
       "      <td>92.281690</td>\n",
       "      <td>176.887324</td>\n",
       "      <td>0.000000</td>\n",
       "      <td>131.971831</td>\n",
       "      <td>0.0</td>\n",
       "      <td>164.154930</td>\n",
       "      <td>162.915493</td>\n",
       "      <td>0.000000</td>\n",
       "      <td>0.000000</td>\n",
       "      <td>0.000000</td>\n",
       "      <td>120.394366</td>\n",
       "      <td>0.000000</td>\n",
       "      <td>0.0</td>\n",
       "      <td>65.859155</td>\n",
       "      <td>0.000000</td>\n",
       "      <td>0.0</td>\n",
       "      <td>113.507042</td>\n",
       "      <td>Healthy</td>\n",
       "    </tr>\n",
       "    <tr>\n",
       "      <th>4</th>\n",
       "      <td>29.176471</td>\n",
       "      <td>120.117647</td>\n",
       "      <td>164.235294</td>\n",
       "      <td>160.000000</td>\n",
       "      <td>179.735294</td>\n",
       "      <td>110.264706</td>\n",
       "      <td>0.0</td>\n",
       "      <td>179.088235</td>\n",
       "      <td>189.294118</td>\n",
       "      <td>150.117647</td>\n",
       "      <td>64.970588</td>\n",
       "      <td>118.558824</td>\n",
       "      <td>209.147059</td>\n",
       "      <td>55.617647</td>\n",
       "      <td>0.0</td>\n",
       "      <td>105.441176</td>\n",
       "      <td>0.000000</td>\n",
       "      <td>0.0</td>\n",
       "      <td>109.088235</td>\n",
       "      <td>Healthy</td>\n",
       "    </tr>\n",
       "    <tr>\n",
       "      <th>...</th>\n",
       "      <td>...</td>\n",
       "      <td>...</td>\n",
       "      <td>...</td>\n",
       "      <td>...</td>\n",
       "      <td>...</td>\n",
       "      <td>...</td>\n",
       "      <td>...</td>\n",
       "      <td>...</td>\n",
       "      <td>...</td>\n",
       "      <td>...</td>\n",
       "      <td>...</td>\n",
       "      <td>...</td>\n",
       "      <td>...</td>\n",
       "      <td>...</td>\n",
       "      <td>...</td>\n",
       "      <td>...</td>\n",
       "      <td>...</td>\n",
       "      <td>...</td>\n",
       "      <td>...</td>\n",
       "      <td>...</td>\n",
       "    </tr>\n",
       "    <tr>\n",
       "      <th>446119</th>\n",
       "      <td>36.580247</td>\n",
       "      <td>0.000000</td>\n",
       "      <td>0.000000</td>\n",
       "      <td>102.419753</td>\n",
       "      <td>0.000000</td>\n",
       "      <td>0.000000</td>\n",
       "      <td>0.0</td>\n",
       "      <td>96.740741</td>\n",
       "      <td>107.666667</td>\n",
       "      <td>61.061728</td>\n",
       "      <td>0.000000</td>\n",
       "      <td>0.000000</td>\n",
       "      <td>0.000000</td>\n",
       "      <td>0.000000</td>\n",
       "      <td>0.0</td>\n",
       "      <td>0.000000</td>\n",
       "      <td>45.456790</td>\n",
       "      <td>0.0</td>\n",
       "      <td>0.000000</td>\n",
       "      <td>Diseased</td>\n",
       "    </tr>\n",
       "    <tr>\n",
       "      <th>446120</th>\n",
       "      <td>0.000000</td>\n",
       "      <td>0.000000</td>\n",
       "      <td>0.000000</td>\n",
       "      <td>44.369863</td>\n",
       "      <td>0.000000</td>\n",
       "      <td>0.000000</td>\n",
       "      <td>0.0</td>\n",
       "      <td>57.150685</td>\n",
       "      <td>74.246575</td>\n",
       "      <td>0.000000</td>\n",
       "      <td>0.000000</td>\n",
       "      <td>0.000000</td>\n",
       "      <td>0.000000</td>\n",
       "      <td>0.000000</td>\n",
       "      <td>0.0</td>\n",
       "      <td>0.000000</td>\n",
       "      <td>0.000000</td>\n",
       "      <td>0.0</td>\n",
       "      <td>0.000000</td>\n",
       "      <td>Diseased</td>\n",
       "    </tr>\n",
       "    <tr>\n",
       "      <th>446121</th>\n",
       "      <td>0.000000</td>\n",
       "      <td>0.000000</td>\n",
       "      <td>0.000000</td>\n",
       "      <td>125.471429</td>\n",
       "      <td>0.000000</td>\n",
       "      <td>0.000000</td>\n",
       "      <td>0.0</td>\n",
       "      <td>73.985714</td>\n",
       "      <td>95.628571</td>\n",
       "      <td>17.728571</td>\n",
       "      <td>0.000000</td>\n",
       "      <td>0.000000</td>\n",
       "      <td>0.000000</td>\n",
       "      <td>0.000000</td>\n",
       "      <td>0.0</td>\n",
       "      <td>0.000000</td>\n",
       "      <td>0.957143</td>\n",
       "      <td>0.0</td>\n",
       "      <td>0.000000</td>\n",
       "      <td>Diseased</td>\n",
       "    </tr>\n",
       "    <tr>\n",
       "      <th>446122</th>\n",
       "      <td>0.000000</td>\n",
       "      <td>0.000000</td>\n",
       "      <td>0.000000</td>\n",
       "      <td>41.304878</td>\n",
       "      <td>0.000000</td>\n",
       "      <td>0.000000</td>\n",
       "      <td>0.0</td>\n",
       "      <td>86.207317</td>\n",
       "      <td>82.926829</td>\n",
       "      <td>0.000000</td>\n",
       "      <td>0.000000</td>\n",
       "      <td>0.000000</td>\n",
       "      <td>0.000000</td>\n",
       "      <td>0.000000</td>\n",
       "      <td>0.0</td>\n",
       "      <td>0.000000</td>\n",
       "      <td>0.000000</td>\n",
       "      <td>0.0</td>\n",
       "      <td>0.000000</td>\n",
       "      <td>Diseased</td>\n",
       "    </tr>\n",
       "    <tr>\n",
       "      <th>446123</th>\n",
       "      <td>0.000000</td>\n",
       "      <td>0.000000</td>\n",
       "      <td>0.000000</td>\n",
       "      <td>93.920792</td>\n",
       "      <td>0.000000</td>\n",
       "      <td>0.000000</td>\n",
       "      <td>0.0</td>\n",
       "      <td>76.475248</td>\n",
       "      <td>86.207921</td>\n",
       "      <td>0.000000</td>\n",
       "      <td>0.000000</td>\n",
       "      <td>0.000000</td>\n",
       "      <td>0.000000</td>\n",
       "      <td>0.000000</td>\n",
       "      <td>0.0</td>\n",
       "      <td>0.000000</td>\n",
       "      <td>0.000000</td>\n",
       "      <td>0.0</td>\n",
       "      <td>0.000000</td>\n",
       "      <td>Diseased</td>\n",
       "    </tr>\n",
       "  </tbody>\n",
       "</table>\n",
       "<p>446124 rows × 20 columns</p>\n",
       "</div>"
      ],
      "text/plain": [
       "             CD20         CD3         CD4      CD45RO        CD68        CD8a  \\\n",
       "0       15.062500  158.187500  120.312500  199.812500    0.000000   77.843750   \n",
       "1       52.100000  177.800000  182.266667  177.500000    0.000000  164.100000   \n",
       "2        0.000000   94.631068   84.990291  129.475728    1.864078  121.242718   \n",
       "3       19.760563   97.788732   92.281690  176.887324    0.000000  131.971831   \n",
       "4       29.176471  120.117647  164.235294  160.000000  179.735294  110.264706   \n",
       "...           ...         ...         ...         ...         ...         ...   \n",
       "446119  36.580247    0.000000    0.000000  102.419753    0.000000    0.000000   \n",
       "446120   0.000000    0.000000    0.000000   44.369863    0.000000    0.000000   \n",
       "446121   0.000000    0.000000    0.000000  125.471429    0.000000    0.000000   \n",
       "446122   0.000000    0.000000    0.000000   41.304878    0.000000    0.000000   \n",
       "446123   0.000000    0.000000    0.000000   93.920792    0.000000    0.000000   \n",
       "\n",
       "        Col1        DNA1        DNA2   Ecadherin      FoxP3   GranzymeB  \\\n",
       "0        0.0  151.281250  155.875000   63.562500  56.250000    0.000000   \n",
       "1        0.0  170.600000  180.600000    0.000000  59.500000    0.000000   \n",
       "2        0.0  144.504854  155.825243    0.000000   0.000000    0.000000   \n",
       "3        0.0  164.154930  162.915493    0.000000   0.000000    0.000000   \n",
       "4        0.0  179.088235  189.294118  150.117647  64.970588  118.558824   \n",
       "...      ...         ...         ...         ...        ...         ...   \n",
       "446119   0.0   96.740741  107.666667   61.061728   0.000000    0.000000   \n",
       "446120   0.0   57.150685   74.246575    0.000000   0.000000    0.000000   \n",
       "446121   0.0   73.985714   95.628571   17.728571   0.000000    0.000000   \n",
       "446122   0.0   86.207317   82.926829    0.000000   0.000000    0.000000   \n",
       "446123   0.0   76.475248   86.207921    0.000000   0.000000    0.000000   \n",
       "\n",
       "          Histone3       Ki67  PD1        PDL1  Pankeratin  SMA    Vimentin  \\\n",
       "0       141.406250   3.125000  0.0   47.937500    0.000000  0.0  197.750000   \n",
       "1       187.366667   0.000000  0.0   82.766667    0.000000  0.0  201.766667   \n",
       "2       127.067961   0.000000  0.0   56.233010    0.000000  0.0  169.378641   \n",
       "3       120.394366   0.000000  0.0   65.859155    0.000000  0.0  113.507042   \n",
       "4       209.147059  55.617647  0.0  105.441176    0.000000  0.0  109.088235   \n",
       "...            ...        ...  ...         ...         ...  ...         ...   \n",
       "446119    0.000000   0.000000  0.0    0.000000   45.456790  0.0    0.000000   \n",
       "446120    0.000000   0.000000  0.0    0.000000    0.000000  0.0    0.000000   \n",
       "446121    0.000000   0.000000  0.0    0.000000    0.957143  0.0    0.000000   \n",
       "446122    0.000000   0.000000  0.0    0.000000    0.000000  0.0    0.000000   \n",
       "446123    0.000000   0.000000  0.0    0.000000    0.000000  0.0    0.000000   \n",
       "\n",
       "       condition  \n",
       "0        Healthy  \n",
       "1        Healthy  \n",
       "2        Healthy  \n",
       "3        Healthy  \n",
       "4        Healthy  \n",
       "...          ...  \n",
       "446119  Diseased  \n",
       "446120  Diseased  \n",
       "446121  Diseased  \n",
       "446122  Diseased  \n",
       "446123  Diseased  \n",
       "\n",
       "[446124 rows x 20 columns]"
      ]
     },
     "execution_count": 51,
     "metadata": {},
     "output_type": "execute_result"
    }
   ],
   "source": [
    "df = pd.DataFrame()\n",
    "for n in range(len(experiments)):\n",
    "    experiment = experiments[n]\n",
    "\n",
    "    markers = []\n",
    "    imgs = []\n",
    "    masks = []\n",
    "\n",
    "    for (dirpath, dirnames, filenames) in os.walk(data_raw / experiment):\n",
    "        for name in sorted(filenames):\n",
    "            if \"tiff\" in name and experiment in name:\n",
    "                img = cv2.imread(\n",
    "                    os.path.join(dirpath, name),\n",
    "                    flags=(cv2.IMREAD_GRAYSCALE | cv2.IMREAD_ANYDEPTH),\n",
    "                )\n",
    "                imgs.append(img)\n",
    "                markers.append(name.split(\"_\")[1].split(\".\")[0])\n",
    "\n",
    "    for (dirpath, dirnames, filenames) in os.walk(data_mask / experiment):\n",
    "        for name in sorted(filenames):\n",
    "            if \"tiff\" in name and experiment in name:\n",
    "                img = cv2.imread(os.path.join(dirpath, name), 0)\n",
    "                masks.append(img)\n",
    "\n",
    "    # Read cell mask image\n",
    "    for (dirpath, dirnames, filenames) in os.walk(data_cell_mask):\n",
    "        for name in sorted(filenames):\n",
    "            if \"tiff\" in name and experiment in name:\n",
    "                cell_mask = np.array(Image.open(os.path.join(dirpath, name)))\n",
    "\n",
    "    # Read mean intensity of marker in cell\n",
    "    cell_intensity = {}\n",
    "    for i in range(len(imgs)):\n",
    "        prop = measure.regionprops_table(\n",
    "            cell_mask,\n",
    "            cv2.bitwise_and(imgs[i], imgs[i], mask=masks[i]),\n",
    "            properties=[\"mean_intensity\"],\n",
    "        )\n",
    "        cell_intensity[markers[i]] = prop[\"mean_intensity\"]\n",
    "\n",
    "    df_temp = pd.DataFrame.from_dict(cell_intensity)\n",
    "    df_temp[\"condition\"] = conditions[n]\n",
    "    df = df.append(df_temp, ignore_index=True)\n",
    "\n",
    "df = df.drop(columns=[\"CD44\", \"H3K9me3\", \"MHCII\"])\n",
    "df"
   ]
  },
  {
   "cell_type": "code",
   "execution_count": 47,
   "metadata": {
    "ExecuteTime": {
     "end_time": "2021-04-05T14:48:12.061599Z",
     "start_time": "2021-04-05T14:48:11.885596Z"
    }
   },
   "outputs": [],
   "source": [
    "# Group markers by cell type\n",
    "Tcell_markers = [\"CD3\", \"CD4\", \"CD8a\", \"CD45RO\", \"FoxP3\"]\n",
    "Icell_markers = [\"CD20\", \"CD68\", \"GranzymeB\"]\n",
    "Ecell_markers = [\"Ki67\", \"Pankeratin\", \"SMA\", \"Vimentin\", \"Ecadherin\", \"Col1\"]\n",
    "all_markers = list(df.columns)[:-1]"
   ]
  },
  {
   "cell_type": "code",
   "execution_count": 48,
   "metadata": {
    "ExecuteTime": {
     "end_time": "2021-04-05T14:48:23.174900Z",
     "start_time": "2021-04-05T14:48:12.064543Z"
    }
   },
   "outputs": [],
   "source": [
    "def get_df(markers):\n",
    "    cols = [\"Intensity\", \"Marker\", \"Condition\"]\n",
    "    df_temp = pd.DataFrame(columns=cols)\n",
    "    for ele in markers:\n",
    "        temp = pd.DataFrame(df[[ele]].values, columns=[\"Intensity\"])\n",
    "        temp[\"Marker\"] = ele\n",
    "        temp[\"Condition\"] = df.condition\n",
    "        df_temp = df_temp.append(temp, ignore_index=True)\n",
    "\n",
    "    return df_temp\n",
    "\n",
    "\n",
    "df = get_df(all_markers)"
   ]
  },
  {
   "cell_type": "code",
   "execution_count": 49,
   "metadata": {
    "ExecuteTime": {
     "end_time": "2021-04-05T14:48:23.421901Z",
     "start_time": "2021-04-05T14:48:23.179900Z"
    }
   },
   "outputs": [],
   "source": [
    "blue_red = [\"#3498db\", \"#e74c3c\"]\n",
    "my_pal = sns.color_palette(blue_red)"
   ]
  },
  {
   "cell_type": "code",
   "execution_count": 50,
   "metadata": {
    "ExecuteTime": {
     "end_time": "2021-04-05T14:48:28.343047Z",
     "start_time": "2021-04-05T14:48:23.425503Z"
    }
   },
   "outputs": [
    {
     "ename": "TypeError",
     "evalue": "ufunc 'isfinite' not supported for the input types, and the inputs could not be safely coerced to any supported types according to the casting rule ''safe''",
     "output_type": "error",
     "traceback": [
      "\u001b[1;31m---------------------------------------------------------------------------\u001b[0m",
      "\u001b[1;31mTypeError\u001b[0m                                 Traceback (most recent call last)",
      "\u001b[1;32m<ipython-input-50-f2ff2aba1b6c>\u001b[0m in \u001b[0;36m<module>\u001b[1;34m\u001b[0m\n\u001b[0;32m      6\u001b[0m \u001b[1;32mwith\u001b[0m \u001b[0msns\u001b[0m\u001b[1;33m.\u001b[0m\u001b[0maxes_style\u001b[0m\u001b[1;33m(\u001b[0m\u001b[1;34m\"white\"\u001b[0m\u001b[1;33m)\u001b[0m\u001b[1;33m:\u001b[0m\u001b[1;33m\u001b[0m\u001b[1;33m\u001b[0m\u001b[0m\n\u001b[0;32m      7\u001b[0m     \u001b[0mfig\u001b[0m\u001b[1;33m,\u001b[0m \u001b[0max\u001b[0m \u001b[1;33m=\u001b[0m \u001b[0mplt\u001b[0m\u001b[1;33m.\u001b[0m\u001b[0msubplots\u001b[0m\u001b[1;33m(\u001b[0m\u001b[0mfigsize\u001b[0m\u001b[1;33m=\u001b[0m\u001b[1;33m(\u001b[0m\u001b[1;36m10\u001b[0m\u001b[1;33m,\u001b[0m \u001b[1;36m10\u001b[0m\u001b[1;33m)\u001b[0m\u001b[1;33m)\u001b[0m\u001b[1;33m\u001b[0m\u001b[1;33m\u001b[0m\u001b[0m\n\u001b[1;32m----> 8\u001b[1;33m     ax = sns.boxenplot(\n\u001b[0m\u001b[0;32m      9\u001b[0m         \u001b[0mx\u001b[0m\u001b[1;33m=\u001b[0m\u001b[1;34m\"Marker\"\u001b[0m\u001b[1;33m,\u001b[0m \u001b[0my\u001b[0m\u001b[1;33m=\u001b[0m\u001b[1;34m\"Intensity\"\u001b[0m\u001b[1;33m,\u001b[0m \u001b[0mhue\u001b[0m\u001b[1;33m=\u001b[0m\u001b[1;34m\"Condition\"\u001b[0m\u001b[1;33m,\u001b[0m \u001b[0mdata\u001b[0m\u001b[1;33m=\u001b[0m\u001b[0mdf_TCell\u001b[0m\u001b[1;33m,\u001b[0m \u001b[0mpalette\u001b[0m\u001b[1;33m=\u001b[0m\u001b[0mmy_pal\u001b[0m\u001b[1;33m\u001b[0m\u001b[1;33m\u001b[0m\u001b[0m\n\u001b[0;32m     10\u001b[0m     )\n",
      "\u001b[1;32m~\\.conda\\envs\\spatial_signaling\\lib\\site-packages\\seaborn\\_decorators.py\u001b[0m in \u001b[0;36minner_f\u001b[1;34m(*args, **kwargs)\u001b[0m\n\u001b[0;32m     44\u001b[0m             )\n\u001b[0;32m     45\u001b[0m         \u001b[0mkwargs\u001b[0m\u001b[1;33m.\u001b[0m\u001b[0mupdate\u001b[0m\u001b[1;33m(\u001b[0m\u001b[1;33m{\u001b[0m\u001b[0mk\u001b[0m\u001b[1;33m:\u001b[0m \u001b[0marg\u001b[0m \u001b[1;32mfor\u001b[0m \u001b[0mk\u001b[0m\u001b[1;33m,\u001b[0m \u001b[0marg\u001b[0m \u001b[1;32min\u001b[0m \u001b[0mzip\u001b[0m\u001b[1;33m(\u001b[0m\u001b[0msig\u001b[0m\u001b[1;33m.\u001b[0m\u001b[0mparameters\u001b[0m\u001b[1;33m,\u001b[0m \u001b[0margs\u001b[0m\u001b[1;33m)\u001b[0m\u001b[1;33m}\u001b[0m\u001b[1;33m)\u001b[0m\u001b[1;33m\u001b[0m\u001b[1;33m\u001b[0m\u001b[0m\n\u001b[1;32m---> 46\u001b[1;33m         \u001b[1;32mreturn\u001b[0m \u001b[0mf\u001b[0m\u001b[1;33m(\u001b[0m\u001b[1;33m**\u001b[0m\u001b[0mkwargs\u001b[0m\u001b[1;33m)\u001b[0m\u001b[1;33m\u001b[0m\u001b[1;33m\u001b[0m\u001b[0m\n\u001b[0m\u001b[0;32m     47\u001b[0m     \u001b[1;32mreturn\u001b[0m \u001b[0minner_f\u001b[0m\u001b[1;33m\u001b[0m\u001b[1;33m\u001b[0m\u001b[0m\n\u001b[0;32m     48\u001b[0m \u001b[1;33m\u001b[0m\u001b[0m\n",
      "\u001b[1;32m~\\.conda\\envs\\spatial_signaling\\lib\\site-packages\\seaborn\\categorical.py\u001b[0m in \u001b[0;36mboxenplot\u001b[1;34m(x, y, hue, data, order, hue_order, orient, color, palette, saturation, width, dodge, k_depth, linewidth, scale, outlier_prop, trust_alpha, showfliers, ax, **kwargs)\u001b[0m\n\u001b[0;32m   2637\u001b[0m         \u001b[0max\u001b[0m \u001b[1;33m=\u001b[0m \u001b[0mplt\u001b[0m\u001b[1;33m.\u001b[0m\u001b[0mgca\u001b[0m\u001b[1;33m(\u001b[0m\u001b[1;33m)\u001b[0m\u001b[1;33m\u001b[0m\u001b[1;33m\u001b[0m\u001b[0m\n\u001b[0;32m   2638\u001b[0m \u001b[1;33m\u001b[0m\u001b[0m\n\u001b[1;32m-> 2639\u001b[1;33m     \u001b[0mplotter\u001b[0m\u001b[1;33m.\u001b[0m\u001b[0mplot\u001b[0m\u001b[1;33m(\u001b[0m\u001b[0max\u001b[0m\u001b[1;33m,\u001b[0m \u001b[0mkwargs\u001b[0m\u001b[1;33m)\u001b[0m\u001b[1;33m\u001b[0m\u001b[1;33m\u001b[0m\u001b[0m\n\u001b[0m\u001b[0;32m   2640\u001b[0m     \u001b[1;32mreturn\u001b[0m \u001b[0max\u001b[0m\u001b[1;33m\u001b[0m\u001b[1;33m\u001b[0m\u001b[0m\n\u001b[0;32m   2641\u001b[0m \u001b[1;33m\u001b[0m\u001b[0m\n",
      "\u001b[1;32m~\\.conda\\envs\\spatial_signaling\\lib\\site-packages\\seaborn\\categorical.py\u001b[0m in \u001b[0;36mplot\u001b[1;34m(self, ax, boxplot_kws)\u001b[0m\n\u001b[0;32m   2060\u001b[0m     \u001b[1;32mdef\u001b[0m \u001b[0mplot\u001b[0m\u001b[1;33m(\u001b[0m\u001b[0mself\u001b[0m\u001b[1;33m,\u001b[0m \u001b[0max\u001b[0m\u001b[1;33m,\u001b[0m \u001b[0mboxplot_kws\u001b[0m\u001b[1;33m)\u001b[0m\u001b[1;33m:\u001b[0m\u001b[1;33m\u001b[0m\u001b[1;33m\u001b[0m\u001b[0m\n\u001b[0;32m   2061\u001b[0m         \u001b[1;34m\"\"\"Make the plot.\"\"\"\u001b[0m\u001b[1;33m\u001b[0m\u001b[1;33m\u001b[0m\u001b[0m\n\u001b[1;32m-> 2062\u001b[1;33m         \u001b[0mself\u001b[0m\u001b[1;33m.\u001b[0m\u001b[0mdraw_letter_value_plot\u001b[0m\u001b[1;33m(\u001b[0m\u001b[0max\u001b[0m\u001b[1;33m,\u001b[0m \u001b[0mboxplot_kws\u001b[0m\u001b[1;33m)\u001b[0m\u001b[1;33m\u001b[0m\u001b[1;33m\u001b[0m\u001b[0m\n\u001b[0m\u001b[0;32m   2063\u001b[0m         \u001b[0mself\u001b[0m\u001b[1;33m.\u001b[0m\u001b[0mannotate_axes\u001b[0m\u001b[1;33m(\u001b[0m\u001b[0max\u001b[0m\u001b[1;33m)\u001b[0m\u001b[1;33m\u001b[0m\u001b[1;33m\u001b[0m\u001b[0m\n\u001b[0;32m   2064\u001b[0m         \u001b[1;32mif\u001b[0m \u001b[0mself\u001b[0m\u001b[1;33m.\u001b[0m\u001b[0morient\u001b[0m \u001b[1;33m==\u001b[0m \u001b[1;34m\"h\"\u001b[0m\u001b[1;33m:\u001b[0m\u001b[1;33m\u001b[0m\u001b[1;33m\u001b[0m\u001b[0m\n",
      "\u001b[1;32m~\\.conda\\envs\\spatial_signaling\\lib\\site-packages\\seaborn\\categorical.py\u001b[0m in \u001b[0;36mdraw_letter_value_plot\u001b[1;34m(self, ax, kws)\u001b[0m\n\u001b[0;32m   2048\u001b[0m                     \u001b[0mcolor\u001b[0m \u001b[1;33m=\u001b[0m \u001b[0mself\u001b[0m\u001b[1;33m.\u001b[0m\u001b[0mcolors\u001b[0m\u001b[1;33m[\u001b[0m\u001b[0mj\u001b[0m\u001b[1;33m]\u001b[0m\u001b[1;33m\u001b[0m\u001b[1;33m\u001b[0m\u001b[0m\n\u001b[0;32m   2049\u001b[0m                     \u001b[0mcenter\u001b[0m \u001b[1;33m=\u001b[0m \u001b[0mi\u001b[0m \u001b[1;33m+\u001b[0m \u001b[0moffsets\u001b[0m\u001b[1;33m[\u001b[0m\u001b[0mj\u001b[0m\u001b[1;33m]\u001b[0m\u001b[1;33m\u001b[0m\u001b[1;33m\u001b[0m\u001b[0m\n\u001b[1;32m-> 2050\u001b[1;33m                     self._lvplot(box_data,\n\u001b[0m\u001b[0;32m   2051\u001b[0m                                  \u001b[0mpositions\u001b[0m\u001b[1;33m=\u001b[0m\u001b[1;33m[\u001b[0m\u001b[0mcenter\u001b[0m\u001b[1;33m]\u001b[0m\u001b[1;33m,\u001b[0m\u001b[1;33m\u001b[0m\u001b[1;33m\u001b[0m\u001b[0m\n\u001b[0;32m   2052\u001b[0m                                  \u001b[0mcolor\u001b[0m\u001b[1;33m=\u001b[0m\u001b[0mcolor\u001b[0m\u001b[1;33m,\u001b[0m\u001b[1;33m\u001b[0m\u001b[1;33m\u001b[0m\u001b[0m\n",
      "\u001b[1;32m~\\.conda\\envs\\spatial_signaling\\lib\\site-packages\\seaborn\\categorical.py\u001b[0m in \u001b[0;36m_lvplot\u001b[1;34m(self, box_data, positions, color, widths, ax, **kws)\u001b[0m\n\u001b[0;32m   1913\u001b[0m             \u001b[1;31m# Get the number of data points and calculate \"depth\" of\u001b[0m\u001b[1;33m\u001b[0m\u001b[1;33m\u001b[0m\u001b[1;33m\u001b[0m\u001b[0m\n\u001b[0;32m   1914\u001b[0m             \u001b[1;31m# letter-value plot\u001b[0m\u001b[1;33m\u001b[0m\u001b[1;33m\u001b[0m\u001b[1;33m\u001b[0m\u001b[0m\n\u001b[1;32m-> 1915\u001b[1;33m             \u001b[0mbox_ends\u001b[0m\u001b[1;33m,\u001b[0m \u001b[0mk\u001b[0m \u001b[1;33m=\u001b[0m \u001b[0mself\u001b[0m\u001b[1;33m.\u001b[0m\u001b[0m_lv_box_ends\u001b[0m\u001b[1;33m(\u001b[0m\u001b[0mbox_data\u001b[0m\u001b[1;33m)\u001b[0m\u001b[1;33m\u001b[0m\u001b[1;33m\u001b[0m\u001b[0m\n\u001b[0m\u001b[0;32m   1916\u001b[0m \u001b[1;33m\u001b[0m\u001b[0m\n\u001b[0;32m   1917\u001b[0m             \u001b[1;31m# Anonymous functions for calculating the width and height\u001b[0m\u001b[1;33m\u001b[0m\u001b[1;33m\u001b[0m\u001b[1;33m\u001b[0m\u001b[0m\n",
      "\u001b[1;32m~\\.conda\\envs\\spatial_signaling\\lib\\site-packages\\seaborn\\categorical.py\u001b[0m in \u001b[0;36m_lv_box_ends\u001b[1;34m(self, vals)\u001b[0m\n\u001b[0;32m   1843\u001b[0m         letter-value plot.\"\"\"\n\u001b[0;32m   1844\u001b[0m         \u001b[0mvals\u001b[0m \u001b[1;33m=\u001b[0m \u001b[0mnp\u001b[0m\u001b[1;33m.\u001b[0m\u001b[0masarray\u001b[0m\u001b[1;33m(\u001b[0m\u001b[0mvals\u001b[0m\u001b[1;33m)\u001b[0m\u001b[1;33m\u001b[0m\u001b[1;33m\u001b[0m\u001b[0m\n\u001b[1;32m-> 1845\u001b[1;33m         \u001b[0mvals\u001b[0m \u001b[1;33m=\u001b[0m \u001b[0mvals\u001b[0m\u001b[1;33m[\u001b[0m\u001b[0mnp\u001b[0m\u001b[1;33m.\u001b[0m\u001b[0misfinite\u001b[0m\u001b[1;33m(\u001b[0m\u001b[0mvals\u001b[0m\u001b[1;33m)\u001b[0m\u001b[1;33m]\u001b[0m\u001b[1;33m\u001b[0m\u001b[1;33m\u001b[0m\u001b[0m\n\u001b[0m\u001b[0;32m   1846\u001b[0m         \u001b[0mn\u001b[0m \u001b[1;33m=\u001b[0m \u001b[0mlen\u001b[0m\u001b[1;33m(\u001b[0m\u001b[0mvals\u001b[0m\u001b[1;33m)\u001b[0m\u001b[1;33m\u001b[0m\u001b[1;33m\u001b[0m\u001b[0m\n\u001b[0;32m   1847\u001b[0m         \u001b[0mp\u001b[0m \u001b[1;33m=\u001b[0m \u001b[0mself\u001b[0m\u001b[1;33m.\u001b[0m\u001b[0moutlier_prop\u001b[0m\u001b[1;33m\u001b[0m\u001b[1;33m\u001b[0m\u001b[0m\n",
      "\u001b[1;31mTypeError\u001b[0m: ufunc 'isfinite' not supported for the input types, and the inputs could not be safely coerced to any supported types according to the casting rule ''safe''"
     ]
    },
    {
     "data": {
      "image/png": "[encoded data removed]",
      "text/plain": [
       "<Figure size 720x720 with 1 Axes>"
      ]
     },
     "metadata": {},
     "output_type": "display_data"
    }
   ],
   "source": [
    "df_TCell = df[df.Marker.isin(Tcell_markers)]\n",
    "\n",
    "sns.set_style(\"white\")\n",
    "sns.set(font_scale=1.5)\n",
    "\n",
    "with sns.axes_style(\"white\"):\n",
    "    fig, ax = plt.subplots(figsize=(10, 10))\n",
    "    ax = sns.boxenplot(\n",
    "        x=\"Marker\", y=\"Intensity\", hue=\"Condition\", data=df_TCell, palette=my_pal\n",
    "    )\n",
    "    ax.legend(\n",
    "        loc=\"center right\",\n",
    "        bbox_to_anchor=(1.25, 0.5),\n",
    "        fancybox=True,\n",
    "        framealpha=1,\n",
    "        shadow=True,\n",
    "        borderpad=1,\n",
    "    )\n",
    "    sns.despine(offset=10, trim=True, bottom=False)\n",
    "    fig.savefig(data_figure / \"stats\" / \"int_TCell.png\", bbox_inches=\"tight\")"
   ]
  },
  {
   "cell_type": "code",
   "execution_count": null,
   "metadata": {
    "ExecuteTime": {
     "end_time": "2021-04-05T14:48:28.354048Z",
     "start_time": "2021-04-05T14:40:55.751Z"
    }
   },
   "outputs": [],
   "source": [
    "df_ICell = df[df.Marker.isin(Icell_markers)]\n",
    "\n",
    "with sns.axes_style(\"white\"):\n",
    "    fig, ax = plt.subplots(figsize=(10, 10))\n",
    "    ax = sns.boxenplot(\n",
    "        x=\"Marker\", y=\"Intensity\", hue=\"Condition\", data=df_ICell, palette=my_pal\n",
    "    )\n",
    "    ax.legend(\n",
    "        loc=\"center right\",\n",
    "        bbox_to_anchor=(1.25, 0.5),\n",
    "        ncol=1,\n",
    "        fancybox=True,\n",
    "        framealpha=1,\n",
    "        shadow=True,\n",
    "        borderpad=1,\n",
    "    )\n",
    "    sns.despine(offset=10, trim=True, bottom=False)\n",
    "    fig.savefig(data_figure / \"stats\" / \"int_ICell.png\", bbox_inches=\"tight\")"
   ]
  },
  {
   "cell_type": "code",
   "execution_count": null,
   "metadata": {
    "ExecuteTime": {
     "end_time": "2021-04-05T14:48:28.357048Z",
     "start_time": "2021-04-05T14:40:55.752Z"
    }
   },
   "outputs": [],
   "source": [
    "df_ECell = df[df.Marker.isin(Ecell_markers)]\n",
    "\n",
    "with sns.axes_style(\"white\"):\n",
    "    fig, ax = plt.subplots(figsize=(10, 10))\n",
    "    ax = sns.boxenplot(\n",
    "        x=\"Marker\", y=\"Intensity\", hue=\"Condition\", data=df_ECell, palette=my_pal\n",
    "    )\n",
    "    ax.legend(\n",
    "        loc=\"center right\",\n",
    "        bbox_to_anchor=(1.25, 0.5),\n",
    "        ncol=1,\n",
    "        fancybox=True,\n",
    "        framealpha=1,\n",
    "        shadow=True,\n",
    "        borderpad=1,\n",
    "    )\n",
    "    sns.despine(offset=10, trim=True, bottom=False)\n",
    "    fig.savefig(data_figure / \"stats\" / \"int_ECell.png\", bbox_inches=\"tight\")"
   ]
  },
  {
   "cell_type": "code",
   "execution_count": null,
   "metadata": {},
   "outputs": [],
   "source": []
  },
  {
   "cell_type": "code",
   "execution_count": null,
   "metadata": {},
   "outputs": [],
   "source": []
  }
 ],
 "metadata": {
  "kernelspec": {
   "display_name": "Python 3",
   "language": "python",
   "name": "python3"
  },
  "language_info": {
   "codemirror_mode": {
    "name": "ipython",
    "version": 3
   },
   "file_extension": ".py",
   "mimetype": "text/x-python",
   "name": "python",
   "nbconvert_exporter": "python",
   "pygments_lexer": "ipython3",
   "version": "3.8.6"
  },
  "toc": {
   "base_numbering": 1,
   "nav_menu": {},
   "number_sections": true,
   "sideBar": true,
   "skip_h1_title": false,
   "title_cell": "Table of Contents",
   "title_sidebar": "Contents",
   "toc_cell": false,
   "toc_position": {},
   "toc_section_display": true,
   "toc_window_display": false
  },
  "varInspector": {
   "cols": {
    "lenName": 16,
    "lenType": 16,
    "lenVar": 40
   },
   "kernels_config": {
    "python": {
     "delete_cmd_postfix": "",
     "delete_cmd_prefix": "del ",
     "library": "var_list.py",
     "varRefreshCmd": "print(var_dic_list())"
    },
    "r": {
     "delete_cmd_postfix": ") ",
     "delete_cmd_prefix": "rm(",
     "library": "var_list.r",
     "varRefreshCmd": "cat(var_dic_list()) "
    }
   },
   "types_to_exclude": [
    "module",
    "function",
    "builtin_function_or_method",
    "instance",
    "_Feature"
   ],
   "window_display": false
  }
 },
 "nbformat": 4,
 "nbformat_minor": 4
}
