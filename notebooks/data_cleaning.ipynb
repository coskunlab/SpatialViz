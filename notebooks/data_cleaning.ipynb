{
 "cells": [
  {
   "cell_type": "code",
   "execution_count": 1,
   "metadata": {
    "ExecuteTime": {
     "end_time": "2021-01-12T17:12:50.691667Z",
     "start_time": "2021-01-12T17:12:50.329660Z"
    }
   },
   "outputs": [],
   "source": [
    "import os\n",
    "import sys\n",
    "from pathlib import Path\n",
    "\n",
    "import pandas as pd"
   ]
  },
  {
   "cell_type": "code",
   "execution_count": 2,
   "metadata": {
    "ExecuteTime": {
     "end_time": "2021-01-12T17:12:50.785669Z",
     "start_time": "2021-01-12T17:12:50.694681Z"
    }
   },
   "outputs": [],
   "source": [
    "%load_ext autoreload\n",
    "%autoreload 2"
   ]
  },
  {
   "cell_type": "code",
   "execution_count": 3,
   "metadata": {
    "ExecuteTime": {
     "end_time": "2021-01-12T17:12:50.877671Z",
     "start_time": "2021-01-12T17:12:50.788669Z"
    }
   },
   "outputs": [],
   "source": [
    "# Import path\n",
    "module_path = str(Path.cwd().parents[0])\n",
    "if module_path not in sys.path:\n",
    "    sys.path.append(module_path)"
   ]
  },
  {
   "cell_type": "code",
   "execution_count": 4,
   "metadata": {
    "ExecuteTime": {
     "end_time": "2021-01-12T17:12:51.015680Z",
     "start_time": "2021-01-12T17:12:50.879671Z"
    }
   },
   "outputs": [],
   "source": [
    "from config import *"
   ]
  },
  {
   "cell_type": "markdown",
   "metadata": {},
   "source": [
    "# Create dataset metadata"
   ]
  },
  {
   "cell_type": "code",
   "execution_count": 5,
   "metadata": {
    "ExecuteTime": {
     "end_time": "2021-01-12T17:12:51.136678Z",
     "start_time": "2021-01-12T17:12:51.020673Z"
    }
   },
   "outputs": [],
   "source": [
    "directories = sorted([str(f) for f in data_raw.iterdir() if f.is_dir()])"
   ]
  },
  {
   "cell_type": "markdown",
   "metadata": {},
   "source": [
    "# Rename files "
   ]
  },
  {
   "cell_type": "code",
   "execution_count": 6,
   "metadata": {
    "ExecuteTime": {
     "end_time": "2021-01-12T17:12:51.239678Z",
     "start_time": "2021-01-12T17:12:51.138678Z"
    }
   },
   "outputs": [],
   "source": [
    "# for dirpath, dirname, filenames in os.walk(data_raw):\n",
    "#     for name in filenames:\n",
    "#         old_name = os.path.join(dirpath, name)\n",
    "#         dir_name = dirpath.split('\\\\')[-1]\n",
    "#         image_name = name.split('_')[-1]\n",
    "#         if image_name == 'ECadherin.tiff':\n",
    "#             image_name = 'Ecadherin.tiff'\n",
    "#         elif image_name == 'FOXP3.tiff':\n",
    "#             image_name = 'FoxP3.tiff'\n",
    "#         elif image_name == 'PanKeratin.tiff':\n",
    "#             image_name = 'Pankeratin.tiff'\n",
    "#         elif image_name == 'Vimetin.tiff':\n",
    "#             image_name = 'Vimentin.tiff'\n",
    "#         new_name = '_'.join([dir_name,image_name])\n",
    "#         os.rename(old_name, os.path.join(dirpath, new_name))"
   ]
  },
  {
   "cell_type": "code",
   "execution_count": 7,
   "metadata": {
    "ExecuteTime": {
     "end_time": "2021-01-12T17:12:51.352680Z",
     "start_time": "2021-01-12T17:12:51.242682Z"
    }
   },
   "outputs": [],
   "source": [
    "# for dirpath, dirname, filenames in os.walk(data_mask):\n",
    "#     for name in filenames:\n",
    "#         old_name = os.path.join(dirpath, name)\n",
    "#         if 'Mask.tiff' in name:\n",
    "#             dir_name = name.split('_')[0]\n",
    "#             image_name = name.split('_')[-1]\n",
    "#             new_name = '_'.join([dir_name,'cell',image_name])\n",
    "#             os.rename(old_name, os.path.join(dirpath, new_name))"
   ]
  },
  {
   "cell_type": "code",
   "execution_count": 10,
   "metadata": {
    "ExecuteTime": {
     "end_time": "2021-01-12T17:13:12.304087Z",
     "start_time": "2021-01-12T17:13:12.073082Z"
    }
   },
   "outputs": [],
   "source": [
    "# for dirpath, dirname, filenames in os.walk(data_raw):\n",
    "#     for name in filenames:\n",
    "#         if 'H3.tiff' in name:\n",
    "#             dir_name = dirpath.split('\\\\')[-1]\n",
    "#             old_name = os.path.join(dirpath, name)\n",
    "#             new_name = '_'.join([dir_name,'Histone3.tiff'])\n",
    "#             os.rename(old_name, os.path.join(dirpath, new_name))"
   ]
  },
  {
   "cell_type": "code",
   "execution_count": 9,
   "metadata": {
    "ExecuteTime": {
     "end_time": "2021-01-12T17:12:51.904702Z",
     "start_time": "2021-01-12T17:12:51.563686Z"
    }
   },
   "outputs": [],
   "source": [
    "for dirpath, dirname, filenames in os.walk(data_cluster):\n",
    "    for name in filenames:\n",
    "        path = os.path.join(dirpath, name)\n",
    "        df = pd.read_csv(path)\n",
    "        df.set_index('Marker', inplace=True)\n",
    "        df.rename(index={'ECadherin': 'Ecadherin', 'FOXP3': 'FoxP3','PanKeratin': 'Pankeratin', 'Vimetin':'Vimentin', 'H3K4me3': 'H3K9me3', 'H3': 'Histone3'}, inplace=True)\n",
    "        df.to_csv(path)"
   ]
  },
  {
   "cell_type": "code",
   "execution_count": null,
   "metadata": {},
   "outputs": [],
   "source": []
  }
 ],
 "metadata": {
  "kernelspec": {
   "display_name": "Python 3",
   "language": "python",
   "name": "python3"
  },
  "language_info": {
   "codemirror_mode": {
    "name": "ipython",
    "version": 3
   },
   "file_extension": ".py",
   "mimetype": "text/x-python",
   "name": "python",
   "nbconvert_exporter": "python",
   "pygments_lexer": "ipython3",
   "version": "3.6.10"
  },
  "toc": {
   "base_numbering": 1,
   "nav_menu": {},
   "number_sections": true,
   "sideBar": true,
   "skip_h1_title": false,
   "title_cell": "Table of Contents",
   "title_sidebar": "Contents",
   "toc_cell": false,
   "toc_position": {},
   "toc_section_display": true,
   "toc_window_display": false
  },
  "varInspector": {
   "cols": {
    "lenName": 16,
    "lenType": 16,
    "lenVar": 40
   },
   "kernels_config": {
    "python": {
     "delete_cmd_postfix": "",
     "delete_cmd_prefix": "del ",
     "library": "var_list.py",
     "varRefreshCmd": "print(var_dic_list())"
    },
    "r": {
     "delete_cmd_postfix": ") ",
     "delete_cmd_prefix": "rm(",
     "library": "var_list.r",
     "varRefreshCmd": "cat(var_dic_list()) "
    }
   },
   "types_to_exclude": [
    "module",
    "function",
    "builtin_function_or_method",
    "instance",
    "_Feature"
   ],
   "window_display": false
  }
 },
 "nbformat": 4,
 "nbformat_minor": 4
}
