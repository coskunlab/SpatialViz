{
 "cells": [
  {
   "cell_type": "code",
   "execution_count": 27,
   "metadata": {
    "ExecuteTime": {
     "end_time": "2021-01-15T16:32:44.246402Z",
     "start_time": "2021-01-15T16:32:44.042400Z"
    }
   },
   "outputs": [],
   "source": [
    "from PIL import Image\n",
    "from skimage import measure\n",
    "from skimage import color\n",
    "import numpy as np \n",
    "import pandas as pd \n",
    "import os\n",
    "import sys\n",
    "import cv2\n",
    "import matplotlib.pyplot as plt\n",
    "import seaborn as sns\n",
    "import matplotlib.patches as mpatches\n",
    "import pickle\n",
    "from sklearn.neighbors import NearestNeighbors\n",
    "from matplotlib.collections import LineCollection\n",
    "from sklearn.metrics.pairwise import euclidean_distances\n",
    "from mpl_toolkits.axes_grid1.anchored_artists import AnchoredSizeBar\n",
    "import matplotlib.font_manager as fm\n",
    "fontprops = fm.FontProperties(size=34)\n",
    "from pathlib import Path\n",
    "import matplotlib\n",
    "sns.set(font_scale=2)\n",
    "%matplotlib inline"
   ]
  },
  {
   "cell_type": "code",
   "execution_count": 28,
   "metadata": {
    "ExecuteTime": {
     "end_time": "2021-01-15T16:32:44.451403Z",
     "start_time": "2021-01-15T16:32:44.249402Z"
    }
   },
   "outputs": [
    {
     "name": "stdout",
     "output_type": "stream",
     "text": [
      "The autoreload extension is already loaded. To reload it, use:\n",
      "  %reload_ext autoreload\n"
     ]
    }
   ],
   "source": [
    "%load_ext autoreload\n",
    "%autoreload 2"
   ]
  },
  {
   "cell_type": "code",
   "execution_count": 29,
   "metadata": {
    "ExecuteTime": {
     "end_time": "2021-01-15T16:32:44.622403Z",
     "start_time": "2021-01-15T16:32:44.453409Z"
    }
   },
   "outputs": [],
   "source": [
    "# Import path\n",
    "module_path = str(Path.cwd().parents[0])\n",
    "if module_path not in sys.path:\n",
    "    sys.path.append(module_path)\n",
    "    \n",
    "module_path = str(Path.cwd().parents[0] / \"src\")\n",
    "if module_path not in sys.path:\n",
    "    sys.path.append(module_path)\n",
    "    "
   ]
  },
  {
   "cell_type": "code",
   "execution_count": 30,
   "metadata": {
    "ExecuteTime": {
     "end_time": "2021-01-15T16:32:44.820404Z",
     "start_time": "2021-01-15T16:32:44.625403Z"
    }
   },
   "outputs": [],
   "source": [
    "from config import *\n",
    "import my_io as io"
   ]
  },
  {
   "cell_type": "code",
   "execution_count": 31,
   "metadata": {
    "ExecuteTime": {
     "end_time": "2021-01-15T16:32:45.017405Z",
     "start_time": "2021-01-15T16:32:44.822404Z"
    }
   },
   "outputs": [
    {
     "name": "stdout",
     "output_type": "stream",
     "text": [
      "['DT1', 'DT2', 'DT3', 'DT4', 'DT5', 'DT6', 'NT1', 'NT2', 'NT3', 'NT4', 'NT5', 'NT6']\n"
     ]
    }
   ],
   "source": [
    "datasets = sorted([str(f) for f in data_raw.iterdir() if f.is_dir()])\n",
    "datasets = [name.split('\\\\')[-1] for name in datasets]\n",
    "print(datasets)"
   ]
  },
  {
   "cell_type": "code",
   "execution_count": 32,
   "metadata": {
    "ExecuteTime": {
     "end_time": "2021-01-15T16:32:45.182408Z",
     "start_time": "2021-01-15T16:32:45.020410Z"
    }
   },
   "outputs": [],
   "source": [
    "conditions = ['Disease']*6 + ['Healthy']*6"
   ]
  },
  {
   "cell_type": "markdown",
   "metadata": {},
   "source": [
    "# Get stats"
   ]
  },
  {
   "cell_type": "code",
   "execution_count": 33,
   "metadata": {
    "ExecuteTime": {
     "end_time": "2021-01-15T16:34:33.141631Z",
     "start_time": "2021-01-15T16:32:45.184405Z"
    }
   },
   "outputs": [],
   "source": [
    "df = pd.DataFrame()\n",
    "for n, dataset in enumerate(datasets):\n",
    "    markers = []\n",
    "    imgs = []    \n",
    "    masks = []\n",
    "\n",
    "    for (dirpath, dirnames, filenames) in os.walk(data_raw / dataset):\n",
    "        for name in sorted(filenames):\n",
    "            if 'tiff' in name and dataset in name:\n",
    "                img = cv2.imread(os.path.join(dirpath,name),flags=(cv2.IMREAD_GRAYSCALE | cv2.IMREAD_ANYDEPTH))\n",
    "                imgs.append(img)\n",
    "                markers.append(name.split('_')[1].split('.')[0])\n",
    "                \n",
    "\n",
    "    for (dirpath, dirnames, filenames) in os.walk(data_mask / dataset):\n",
    "        for name in sorted(filenames):\n",
    "            if 'tiff' in name and dataset in name:        \n",
    "                img = cv2.imread(os.path.join(dirpath,name),0)\n",
    "                masks.append(img)\n",
    "                \n",
    "    # Read cell mask image \n",
    "    for (dirpath, dirnames, filenames) in os.walk(data_cell_mask):\n",
    "        for name in sorted(filenames):\n",
    "            if  'tiff' in name and dataset in name:\n",
    "                cell_mask = np.array(Image.open(os.path.join(dirpath,name)))\n",
    "            \n",
    "    max_cell = len(np.unique(cell_mask))\n",
    "    \n",
    "    # Read mean intensity of marker in cell \n",
    "    marker_area = {}\n",
    "    for idx, marker in enumerate(markers):\n",
    "        marker_area[marker] = [len(np.unique(cv2.bitwise_and(cell_mask,cell_mask, mask=masks[idx]))) / max_cell]\n",
    "        \n",
    "    df_temp = pd.DataFrame.from_dict(marker_area)\n",
    "    df_temp['ROI'] = dataset\n",
    "    df = df.append(df_temp, ignore_index=True)\n",
    "\n",
    "df = df.drop(columns=['CD44', 'H3K9me3', 'MHCII'])"
   ]
  },
  {
   "cell_type": "code",
   "execution_count": 38,
   "metadata": {
    "ExecuteTime": {
     "end_time": "2021-01-15T16:34:56.566256Z",
     "start_time": "2021-01-15T16:34:56.325255Z"
    }
   },
   "outputs": [
    {
     "data": {
      "text/html": [
       "<div>\n",
       "<style scoped>\n",
       "    .dataframe tbody tr th:only-of-type {\n",
       "        vertical-align: middle;\n",
       "    }\n",
       "\n",
       "    .dataframe tbody tr th {\n",
       "        vertical-align: top;\n",
       "    }\n",
       "\n",
       "    .dataframe thead th {\n",
       "        text-align: right;\n",
       "    }\n",
       "</style>\n",
       "<table border=\"1\" class=\"dataframe\">\n",
       "  <thead>\n",
       "    <tr style=\"text-align: right;\">\n",
       "      <th></th>\n",
       "      <th>CD20</th>\n",
       "      <th>CD3</th>\n",
       "      <th>CD4</th>\n",
       "      <th>CD45RO</th>\n",
       "      <th>CD68</th>\n",
       "      <th>CD8a</th>\n",
       "      <th>Col1</th>\n",
       "      <th>DNA1</th>\n",
       "      <th>DNA2</th>\n",
       "      <th>Ecadherin</th>\n",
       "      <th>FoxP3</th>\n",
       "      <th>GranzymeB</th>\n",
       "      <th>Histone3</th>\n",
       "      <th>Ki67</th>\n",
       "      <th>PD1</th>\n",
       "      <th>PDL1</th>\n",
       "      <th>Pankeratin</th>\n",
       "      <th>SMA</th>\n",
       "      <th>Vimentin</th>\n",
       "    </tr>\n",
       "    <tr>\n",
       "      <th>ROI</th>\n",
       "      <th></th>\n",
       "      <th></th>\n",
       "      <th></th>\n",
       "      <th></th>\n",
       "      <th></th>\n",
       "      <th></th>\n",
       "      <th></th>\n",
       "      <th></th>\n",
       "      <th></th>\n",
       "      <th></th>\n",
       "      <th></th>\n",
       "      <th></th>\n",
       "      <th></th>\n",
       "      <th></th>\n",
       "      <th></th>\n",
       "      <th></th>\n",
       "      <th></th>\n",
       "      <th></th>\n",
       "      <th></th>\n",
       "    </tr>\n",
       "  </thead>\n",
       "  <tbody>\n",
       "    <tr>\n",
       "      <th>DT1</th>\n",
       "      <td>0.552816</td>\n",
       "      <td>0.442460</td>\n",
       "      <td>0.457072</td>\n",
       "      <td>0.748698</td>\n",
       "      <td>0.367396</td>\n",
       "      <td>0.352918</td>\n",
       "      <td>0.084003</td>\n",
       "      <td>0.991790</td>\n",
       "      <td>0.993555</td>\n",
       "      <td>0.195904</td>\n",
       "      <td>0.011234</td>\n",
       "      <td>0.226847</td>\n",
       "      <td>0.927231</td>\n",
       "      <td>0.298557</td>\n",
       "      <td>0.634789</td>\n",
       "      <td>0.086011</td>\n",
       "      <td>0.085393</td>\n",
       "      <td>0.610223</td>\n",
       "      <td>0.561512</td>\n",
       "    </tr>\n",
       "    <tr>\n",
       "      <th>DT2</th>\n",
       "      <td>0.447063</td>\n",
       "      <td>0.357655</td>\n",
       "      <td>0.411101</td>\n",
       "      <td>0.912694</td>\n",
       "      <td>0.653410</td>\n",
       "      <td>0.300248</td>\n",
       "      <td>0.140375</td>\n",
       "      <td>0.968574</td>\n",
       "      <td>0.971982</td>\n",
       "      <td>0.126765</td>\n",
       "      <td>0.022861</td>\n",
       "      <td>0.277586</td>\n",
       "      <td>0.895233</td>\n",
       "      <td>0.139556</td>\n",
       "      <td>0.811889</td>\n",
       "      <td>0.143606</td>\n",
       "      <td>0.105475</td>\n",
       "      <td>0.091090</td>\n",
       "      <td>0.739078</td>\n",
       "    </tr>\n",
       "    <tr>\n",
       "      <th>DT3</th>\n",
       "      <td>0.286203</td>\n",
       "      <td>0.240380</td>\n",
       "      <td>0.301941</td>\n",
       "      <td>0.800970</td>\n",
       "      <td>0.451031</td>\n",
       "      <td>0.123835</td>\n",
       "      <td>0.154241</td>\n",
       "      <td>0.998485</td>\n",
       "      <td>0.999198</td>\n",
       "      <td>0.227690</td>\n",
       "      <td>0.078725</td>\n",
       "      <td>0.163687</td>\n",
       "      <td>0.680985</td>\n",
       "      <td>0.059743</td>\n",
       "      <td>0.001836</td>\n",
       "      <td>0.000428</td>\n",
       "      <td>0.166200</td>\n",
       "      <td>0.025933</td>\n",
       "      <td>0.523464</td>\n",
       "    </tr>\n",
       "    <tr>\n",
       "      <th>DT4</th>\n",
       "      <td>0.483644</td>\n",
       "      <td>0.547635</td>\n",
       "      <td>0.521451</td>\n",
       "      <td>0.815544</td>\n",
       "      <td>0.155954</td>\n",
       "      <td>0.188507</td>\n",
       "      <td>0.058790</td>\n",
       "      <td>0.995577</td>\n",
       "      <td>0.996267</td>\n",
       "      <td>0.339490</td>\n",
       "      <td>0.114272</td>\n",
       "      <td>0.034906</td>\n",
       "      <td>0.901067</td>\n",
       "      <td>0.200485</td>\n",
       "      <td>0.037383</td>\n",
       "      <td>0.013110</td>\n",
       "      <td>0.107832</td>\n",
       "      <td>0.703961</td>\n",
       "      <td>0.424588</td>\n",
       "    </tr>\n",
       "    <tr>\n",
       "      <th>DT5</th>\n",
       "      <td>0.604307</td>\n",
       "      <td>0.649146</td>\n",
       "      <td>0.537125</td>\n",
       "      <td>0.937858</td>\n",
       "      <td>0.517896</td>\n",
       "      <td>0.599319</td>\n",
       "      <td>0.287078</td>\n",
       "      <td>0.995924</td>\n",
       "      <td>0.997437</td>\n",
       "      <td>0.129547</td>\n",
       "      <td>0.116286</td>\n",
       "      <td>0.314184</td>\n",
       "      <td>0.955849</td>\n",
       "      <td>0.153919</td>\n",
       "      <td>0.874013</td>\n",
       "      <td>0.088956</td>\n",
       "      <td>0.018283</td>\n",
       "      <td>0.111281</td>\n",
       "      <td>0.375449</td>\n",
       "    </tr>\n",
       "  </tbody>\n",
       "</table>\n",
       "</div>"
      ],
      "text/plain": [
       "         CD20       CD3       CD4    CD45RO      CD68      CD8a      Col1  \\\n",
       "ROI                                                                         \n",
       "DT1  0.552816  0.442460  0.457072  0.748698  0.367396  0.352918  0.084003   \n",
       "DT2  0.447063  0.357655  0.411101  0.912694  0.653410  0.300248  0.140375   \n",
       "DT3  0.286203  0.240380  0.301941  0.800970  0.451031  0.123835  0.154241   \n",
       "DT4  0.483644  0.547635  0.521451  0.815544  0.155954  0.188507  0.058790   \n",
       "DT5  0.604307  0.649146  0.537125  0.937858  0.517896  0.599319  0.287078   \n",
       "\n",
       "         DNA1      DNA2  Ecadherin     FoxP3  GranzymeB  Histone3      Ki67  \\\n",
       "ROI                                                                           \n",
       "DT1  0.991790  0.993555   0.195904  0.011234   0.226847  0.927231  0.298557   \n",
       "DT2  0.968574  0.971982   0.126765  0.022861   0.277586  0.895233  0.139556   \n",
       "DT3  0.998485  0.999198   0.227690  0.078725   0.163687  0.680985  0.059743   \n",
       "DT4  0.995577  0.996267   0.339490  0.114272   0.034906  0.901067  0.200485   \n",
       "DT5  0.995924  0.997437   0.129547  0.116286   0.314184  0.955849  0.153919   \n",
       "\n",
       "          PD1      PDL1  Pankeratin       SMA  Vimentin  \n",
       "ROI                                                      \n",
       "DT1  0.634789  0.086011    0.085393  0.610223  0.561512  \n",
       "DT2  0.811889  0.143606    0.105475  0.091090  0.739078  \n",
       "DT3  0.001836  0.000428    0.166200  0.025933  0.523464  \n",
       "DT4  0.037383  0.013110    0.107832  0.703961  0.424588  \n",
       "DT5  0.874013  0.088956    0.018283  0.111281  0.375449  "
      ]
     },
     "execution_count": 38,
     "metadata": {},
     "output_type": "execute_result"
    }
   ],
   "source": [
    "df.set_index('ROI', inplace=True)\n",
    "df.head()"
   ]
  },
  {
   "cell_type": "markdown",
   "metadata": {},
   "source": [
    "# Visualization"
   ]
  },
  {
   "cell_type": "code",
   "execution_count": 53,
   "metadata": {
    "ExecuteTime": {
     "end_time": "2021-01-15T16:43:39.614642Z",
     "start_time": "2021-01-15T16:43:38.897640Z"
    },
    "scrolled": false
   },
   "outputs": [
    {
     "data": {
      "image/png": "[encoded data removed]",
      "text/plain": [
       "<Figure size 980.645x635.762 with 4 Axes>"
      ]
     },
     "metadata": {},
     "output_type": "display_data"
    }
   ],
   "source": [
    "cellSizePixels=40\n",
    "my_cmap = 'bwr'\n",
    "scale_name = 'Area'\n",
    "\n",
    "# Calulate the figure size, this gets us close, but not quite to the right place\n",
    "dpi = matplotlib.rcParams['figure.dpi']\n",
    "marginWidth = matplotlib.rcParams['figure.subplot.right']-matplotlib.rcParams['figure.subplot.left']\n",
    "marginHeight = matplotlib.rcParams['figure.subplot.top']-matplotlib.rcParams['figure.subplot.bottom']\n",
    "Ny,Nx = df.shape\n",
    "figWidth = (Nx*cellSizePixels/dpi)/marginWidth\n",
    "figHeigh = (Ny*cellSizePixels/dpi)/marginHeight\n",
    "\n",
    "with sns.axes_style(\"white\"):\n",
    "    ax = sns.clustermap(df,\n",
    "                        cmap=my_cmap,\n",
    "                        linewidth=0.5,\n",
    "                        col_cluster=False,\n",
    "                        row_cluster=False,\n",
    "                        dendrogram_ratio=(0.1, 0.0),\n",
    "                        figsize=(figWidth, figHeigh))\n",
    "    \n",
    "ax.ax_heatmap.set_yticklabels(\n",
    "    ax.ax_heatmap.get_yticklabels(), rotation=0)\n",
    "ax.ax_heatmap.set_xticklabels(\n",
    "    ax.ax_heatmap.get_xticklabels(), rotation=45, horizontalalignment='right')\n",
    "ax.ax_heatmap.set_xlabel('Marker')\n",
    "ax.ax_heatmap.set_ylabel('ROI')\n",
    "ax.ax_heatmap.tick_params(bottom=True)\n",
    "\n",
    "# calculate the size of the heatmap axes\n",
    "axWidth = (Nx*cellSizePixels)/(figWidth*dpi)\n",
    "axHeight = (Ny*cellSizePixels)/(figHeigh*dpi)\n",
    "\n",
    "# resize heatmap\n",
    "ax_heatmap_orig_pos = ax.ax_heatmap.get_position()\n",
    "ax.ax_heatmap.set_position([ax_heatmap_orig_pos.x0, ax_heatmap_orig_pos.y0, \n",
    "                              axWidth, axHeight])\n",
    "\n",
    "# resize dendrograms to match\n",
    "ax_row_orig_pos = ax.ax_row_dendrogram.get_position()\n",
    "ax.ax_row_dendrogram.set_position([ax_row_orig_pos.x0, ax_row_orig_pos.y0, \n",
    "                                     ax_row_orig_pos.width, axHeight])\n",
    "\n",
    "pos = ax.ax_heatmap.get_position()\n",
    "cbar_size=0.2\n",
    "ax.ax_cbar.set_position((1.02, pos.y0, .03, cbar_size))\n",
    "\n",
    "# Change colorbar label position\n",
    "cbar = ax.ax_heatmap.collections[0].colorbar\n",
    "cbar.set_label(scale_name, fontsize=24)\n",
    "\n",
    "for _, spine in ax.ax_heatmap.spines.items():\n",
    "    spine.set_visible(True)\n",
    "    spine.set_linewidth(3)"
   ]
  },
  {
   "cell_type": "code",
   "execution_count": null,
   "metadata": {},
   "outputs": [],
   "source": []
  }
 ],
 "metadata": {
  "kernelspec": {
   "display_name": "Python 3",
   "language": "python",
   "name": "python3"
  },
  "language_info": {
   "codemirror_mode": {
    "name": "ipython",
    "version": 3
   },
   "file_extension": ".py",
   "mimetype": "text/x-python",
   "name": "python",
   "nbconvert_exporter": "python",
   "pygments_lexer": "ipython3",
   "version": "3.7.9"
  },
  "toc": {
   "base_numbering": 1,
   "nav_menu": {},
   "number_sections": true,
   "sideBar": true,
   "skip_h1_title": false,
   "title_cell": "Table of Contents",
   "title_sidebar": "Contents",
   "toc_cell": false,
   "toc_position": {},
   "toc_section_display": true,
   "toc_window_display": false
  },
  "varInspector": {
   "cols": {
    "lenName": 16,
    "lenType": 16,
    "lenVar": 40
   },
   "kernels_config": {
    "python": {
     "delete_cmd_postfix": "",
     "delete_cmd_prefix": "del ",
     "library": "var_list.py",
     "varRefreshCmd": "print(var_dic_list())"
    },
    "r": {
     "delete_cmd_postfix": ") ",
     "delete_cmd_prefix": "rm(",
     "library": "var_list.r",
     "varRefreshCmd": "cat(var_dic_list()) "
    }
   },
   "types_to_exclude": [
    "module",
    "function",
    "builtin_function_or_method",
    "instance",
    "_Feature"
   ],
   "window_display": false
  }
 },
 "nbformat": 4,
 "nbformat_minor": 4
}
